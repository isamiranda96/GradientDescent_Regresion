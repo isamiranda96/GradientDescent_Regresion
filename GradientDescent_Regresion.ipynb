{
 "cells": [
  {
   "cell_type": "code",
   "execution_count": 1,
   "metadata": {
    "collapsed": true
   },
   "outputs": [],
   "source": [
    "import numpy as np\n",
    "import pandas as pd\n",
    "import data_helper\n",
    "import matplotlib.pyplot as plt\n",
    "from sklearn import linear_model"
   ]
  },
  {
   "cell_type": "markdown",
   "metadata": {},
   "source": [
    "## Cargando los Datos\n",
    "\n",
    "### Descripcion de los Datos\n",
    "\n",
    "**Area_Lote**: Area del lote en metros cuadrados\n",
    "\n",
    "**Precio**: Precio total de la propiedad en Quetzales"
   ]
  },
  {
   "cell_type": "code",
   "execution_count": 2,
   "metadata": {
    "collapsed": true
   },
   "outputs": [],
   "source": [
    "data = pd.read_csv('data.csv')"
   ]
  },
  {
   "cell_type": "code",
   "execution_count": 3,
   "metadata": {},
   "outputs": [
    {
     "data": {
      "text/html": [
       "<div>\n",
       "<style>\n",
       "    .dataframe thead tr:only-child th {\n",
       "        text-align: right;\n",
       "    }\n",
       "\n",
       "    .dataframe thead th {\n",
       "        text-align: left;\n",
       "    }\n",
       "\n",
       "    .dataframe tbody tr th {\n",
       "        vertical-align: top;\n",
       "    }\n",
       "</style>\n",
       "<table border=\"1\" class=\"dataframe\">\n",
       "  <thead>\n",
       "    <tr style=\"text-align: right;\">\n",
       "      <th></th>\n",
       "      <th>x</th>\n",
       "      <th>y</th>\n",
       "    </tr>\n",
       "  </thead>\n",
       "  <tbody>\n",
       "    <tr>\n",
       "      <th>0</th>\n",
       "      <td>6.1101</td>\n",
       "      <td>17.5920</td>\n",
       "    </tr>\n",
       "    <tr>\n",
       "      <th>1</th>\n",
       "      <td>5.5277</td>\n",
       "      <td>9.1302</td>\n",
       "    </tr>\n",
       "    <tr>\n",
       "      <th>2</th>\n",
       "      <td>8.5186</td>\n",
       "      <td>13.6620</td>\n",
       "    </tr>\n",
       "    <tr>\n",
       "      <th>3</th>\n",
       "      <td>7.0032</td>\n",
       "      <td>11.8540</td>\n",
       "    </tr>\n",
       "    <tr>\n",
       "      <th>4</th>\n",
       "      <td>5.8598</td>\n",
       "      <td>6.8233</td>\n",
       "    </tr>\n",
       "  </tbody>\n",
       "</table>\n",
       "</div>"
      ],
      "text/plain": [
       "        x        y\n",
       "0  6.1101  17.5920\n",
       "1  5.5277   9.1302\n",
       "2  8.5186  13.6620\n",
       "3  7.0032  11.8540\n",
       "4  5.8598   6.8233"
      ]
     },
     "execution_count": 3,
     "metadata": {},
     "output_type": "execute_result"
    }
   ],
   "source": [
    "data.head()"
   ]
  },
  {
   "cell_type": "markdown",
   "metadata": {},
   "source": [
    "# Modelos de Regresion Lineal\n",
    "\n",
    "### Modelo 1  \n",
    "$y = 2.41262565 x + 107748.55024667$"
   ]
  },
  {
   "cell_type": "code",
   "execution_count": 4,
   "metadata": {},
   "outputs": [
    {
     "data": {
      "image/png": "[encoded data removed]",
      "text/plain": [
       "<matplotlib.figure.Figure at 0x19dea9edfd0>"
      ]
     },
     "metadata": {},
     "output_type": "display_data"
    }
   ],
   "source": [
    "reg = linear_model.LinearRegression()\n",
    "\n",
    "x = data['x'].values.reshape(-1, 1)\n",
    "y = data['y'].values\n",
    "\n",
    "reg.fit(x,y)\n",
    "\n",
    "y_hat = reg.predict(x)\n",
    "\n",
    "plt.scatter(x, y)\n",
    "plt.plot( x, y_hat, color='red', linewidth=3)\n",
    "plt.show()"
   ]
  },
  {
   "cell_type": "code",
   "execution_count": 5,
   "metadata": {},
   "outputs": [
    {
     "name": "stdout",
     "output_type": "stream",
     "text": [
      " y = 1.1930336441895935 * x  -3.89578087831185\n"
     ]
    }
   ],
   "source": [
    "m = reg.coef_[0]\n",
    "b = reg.intercept_\n",
    "print(' y = {0} * x  {1}'.format(m, b))"
   ]
  },
  {
   "cell_type": "markdown",
   "metadata": {},
   "source": [
    "# Batch Gradient Descent\n"
   ]
  },
  {
   "cell_type": "code",
   "execution_count": 6,
   "metadata": {
    "collapsed": true
   },
   "outputs": [],
   "source": [
    "x_df = pd.DataFrame(data.x)\n",
    "y_df = pd.DataFrame(data.y)"
   ]
  },
  {
   "cell_type": "markdown",
   "metadata": {},
   "source": [
    "### Costo\n",
    "$\\operatorname {Costo} ={\\frac {1}{2m}}\\sum _{i=1}^{m}(h_{\\theta}(x)-Y_{i})^{2}$"
   ]
  },
  {
   "cell_type": "code",
   "execution_count": 7,
   "metadata": {
    "collapsed": true
   },
   "outputs": [],
   "source": [
    "def cost_function(x, y, theta_1, theta_0):\n",
    "\n",
    "    m = len(y)\n",
    "\n",
    "    '''\n",
    "    ### Implementa tu codigo aqui### \n",
    "    Obten los valores de la hipotesis, y calcula el costo utilizando la \n",
    "    formula que esta en la celda anterior.\n",
    "    Esta funcion sera utilizada despues paracalcular el costo en cada iteracion \n",
    "    del gradient descent.\n",
    "    '''\n",
    "    hipotesis = theta_1*x + theta_0*1\n",
    "    costo = np.sum((hipotesis-y)**2)/(2*m)\n",
    "\n",
    "    return costo\n"
   ]
  },
  {
   "cell_type": "markdown",
   "metadata": {},
   "source": [
    "#### Probando la funcion de costo\n",
    "En esta celda vamos a probar la funcion de costo, para los valores de \n",
    "\n",
    "$\\theta_{0} =  -3.8957808783118537$\n",
    "\n",
    "$\\theta_{1} = 1.193033644189594$\n",
    "\n",
    "Debemos obtener el valor de 4.476971375975179"
   ]
  },
  {
   "cell_type": "code",
   "execution_count": 8,
   "metadata": {},
   "outputs": [
    {
     "data": {
      "text/plain": [
       "4.4769713759751788"
      ]
     },
     "execution_count": 8,
     "metadata": {},
     "output_type": "execute_result"
    }
   ],
   "source": [
    "theta_0 = -3.8957808783118537\n",
    "theta_1 = 1.193033644189594\n",
    "\n",
    "x = np.array(x_df).flatten()\n",
    "y = np.array(y_df).flatten()\n",
    "\n",
    "cost_function(x, y, theta_1, theta_0)"
   ]
  },
  {
   "cell_type": "markdown",
   "metadata": {},
   "source": [
    "### Batch Gradient Descent\n",
    "\n",
    "Derivada de la funcion de costo:\n",
    "$\\frac{\\partial}{\\partial \\theta} J(\\theta) = (h_{\\theta}(x)-y) \\cdot x_{j} $\n",
    "\n",
    "En cada repeticion:\n",
    "\n",
    "$\\theta_{0} := \\theta_{0} - \\alpha {\\frac {1}{m}} \\sum _{i=1}^{m} (h_{\\theta}(x)-y) $\n",
    "\n",
    "$\\theta_{1} := \\theta_{1} - \\alpha {\\frac {1}{m}} \\sum _{i=1}^{m} (h_{\\theta}(x)-y) \\cdot x_{j} $"
   ]
  },
  {
   "cell_type": "code",
   "execution_count": 10,
   "metadata": {},
   "outputs": [
    {
     "name": "stdout",
     "output_type": "stream",
     "text": [
      "Iteracion:  0\n",
      "Costo:  6.73719046487\n"
     ]
    },
    {
     "data": {
      "image/png": "[encoded data removed]",
      "text/plain": [
       "<matplotlib.figure.Figure at 0x19dead1da90>"
      ]
     },
     "metadata": {},
     "output_type": "display_data"
    },
    {
     "name": "stdout",
     "output_type": "stream",
     "text": [
      "Iteracion:  20\n",
      "Costo:  5.81081784263\n"
     ]
    },
    {
     "data": {
      "image/png": "[encoded data removed]",
      "text/plain": [
       "<matplotlib.figure.Figure at 0x19deb1ba1d0>"
      ]
     },
     "metadata": {},
     "output_type": "display_data"
    },
    {
     "name": "stdout",
     "output_type": "stream",
     "text": [
      "Iteracion:  40\n",
      "Costo:  5.71794710733\n"
     ]
    },
    {
     "data": {
      "image/png": "[encoded data removed]",
      "text/plain": [
       "<matplotlib.figure.Figure at 0x19deb1eda20>"
      ]
     },
     "metadata": {},
     "output_type": "display_data"
    },
    {
     "name": "stdout",
     "output_type": "stream",
     "text": [
      "Iteracion:  60\n",
      "Costo:  5.63154261361\n"
     ]
    },
    {
     "data": {
      "image/png": "[encoded data removed]",
      "text/plain": [
       "<matplotlib.figure.Figure at 0x19deb2523c8>"
      ]
     },
     "metadata": {},
     "output_type": "display_data"
    },
    {
     "name": "stdout",
     "output_type": "stream",
     "text": [
      "Iteracion:  80\n",
      "Costo:  5.55115414127\n"
     ]
    },
    {
     "data": {
      "image/png": "[encoded data removed]",
      "text/plain": [
       "<matplotlib.figure.Figure at 0x19deb2b3898>"
      ]
     },
     "metadata": {},
     "output_type": "display_data"
    },
    {
     "name": "stdout",
     "output_type": "stream",
     "text": [
      "-0.576556230332 0.859581525273\n",
      "5.47997558054\n"
     ]
    }
   ],
   "source": [
    "x = np.array(x_df).flatten()\n",
    "y = np.array(y_df).flatten()\n",
    "\n",
    "theta_0 = 0\n",
    "theta_1 = 0\n",
    "\n",
    "### ingresa el numero de iteracions y el valor de alpha ###\n",
    "iterations = 100\n",
    "alpha = 0.01\n",
    "\n",
    "\n",
    "m = len(y) \n",
    "\n",
    "\n",
    "for iteration in range(iterations):\n",
    "    h = theta_1*x  + theta_0\n",
    "    \n",
    "    '''\n",
    "    ## Implementa tu codigo aqui #####\n",
    "    Calcula los valores de theta0 y theta1\n",
    "    '''\n",
    "    theta_0_temp = theta_0 - (alpha * (1/int(m))* np.sum(np.subtract(h,y)))\n",
    "    theta_1_temp = theta_1 - (alpha * (1/int(m))* np.sum(np.subtract(h,y)*x))\n",
    "    \n",
    "    theta_0 = theta_0_temp\n",
    "    theta_1 = theta_1_temp\n",
    "    \n",
    "    '''\n",
    "    ## Implementa tu codigo aqui ####\n",
    "    Utiliza la funcion de costo para \n",
    "    '''\n",
    "    cost = cost_function(x, y, theta_1, theta_0)\n",
    "    \n",
    "    ## No modifiques nada desde este punto #####\n",
    "    if(iteration % 20 == 0):\n",
    "        print('Iteracion: ', iteration)\n",
    "        print('Costo: ', cost)\n",
    "        h = theta_1*x  + theta_0\n",
    "        plt.scatter(x, y)\n",
    "        plt.plot( x, h, color='red', linewidth=3)\n",
    "        plt.show()\n",
    "        \n",
    "        \n",
    "print(theta_0, theta_1) \n",
    "print(cost)"
   ]
  },
  {
   "cell_type": "markdown",
   "metadata": {},
   "source": [
    "# Gradient Descent con Scikit Learn"
   ]
  },
  {
   "cell_type": "code",
   "execution_count": 378,
   "metadata": {},
   "outputs": [
    {
     "data": {
      "image/png": "[encoded data removed]",
      "text/plain": [
       "<matplotlib.figure.Figure at 0x1a1ea4d978>"
      ]
     },
     "metadata": {},
     "output_type": "display_data"
    }
   ],
   "source": [
    "import numpy as np\n",
    "from sklearn import linear_model\n",
    "\n",
    "\n",
    "x = data['x'].values.reshape(-1, 1)\n",
    "y = data['y'].values\n",
    "\n",
    "clf = linear_model.SGDRegressor(alpha=0.01, loss='squared_loss', max_iter=100)\n",
    "clf.fit(x, y)\n",
    "\n",
    "y_hat = clf.predict(x)\n",
    "\n",
    "plt.scatter(x, y)\n",
    "plt.plot( x, y_hat, color='red', linewidth=3)\n",
    "plt.show()"
   ]
  }
 ],
 "metadata": {
  "kernelspec": {
   "display_name": "Python 3",
   "language": "python",
   "name": "python3"
  },
  "language_info": {
   "codemirror_mode": {
    "name": "ipython",
    "version": 3
   },
   "file_extension": ".py",
   "mimetype": "text/x-python",
   "name": "python",
   "nbconvert_exporter": "python",
   "pygments_lexer": "ipython3",
   "version": "3.6.3"
  }
 },
 "nbformat": 4,
 "nbformat_minor": 2
}
